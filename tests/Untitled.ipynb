{
 "cells": [
  {
   "cell_type": "code",
   "execution_count": 1,
   "metadata": {},
   "outputs": [],
   "source": [
    "import requests\n",
    "import json"
   ]
  },
  {
   "cell_type": "code",
   "execution_count": 48,
   "metadata": {},
   "outputs": [],
   "source": [
    "def whereyat(address):\n",
    "    url_1 = \"https://gis.nola.gov/arcgis/rest/services/CompositePIN2/GeocodeServer/findAddressCandidates?SingleLine={}&f=json\".format(address)\n",
    "\n",
    "    req_1 = requests.get(url_1)\n",
    "    resp = req_1.json()\n",
    "    resp['candidates'][0]['location']\n",
    "    x_val = resp['candidates'][0]['location']['x']\n",
    "    y_val = resp['candidates'][0]['location']['y']\n",
    "\n",
    "\n",
    "    base = \"https://gis.nola.gov/arcgis/rest/services/apps/WhereYat/MapServer/identify?\"\n",
    "    base_geo = \"geometry={x:\" + str(x_val) +\",y:\" + str(y_val)+\"}&\"\n",
    "    geo_type = \"geometryType=esriGeometryPoint&layers=all&tolerance=2&\"\n",
    "    change_value = .00001\n",
    "    x_lower = x_val - (x_val * change_value)\n",
    "    x_upper = x_val + (x_val * change_value)\n",
    "    y_lower = y_val - (y_val * change_value)\n",
    "    y_upper = y_val + (y_val * change_value)\n",
    "    map_extent = \"mapExtent={},{},{},{}&\".format(x_lower,y_lower,x_upper,y_upper)\n",
    "    display_image = \"imageDisplay=20,20,96&returnGeometry=false&f=json\"\n",
    "    url_3 = base + base_geo + geo_type + map_extent + display_image\n",
    "    resp_2 = requests.get(url_3)\n",
    "    return(resp_2)"
   ]
  },
  {
   "cell_type": "code",
   "execution_count": 2,
   "metadata": {},
   "outputs": [],
   "source": [
    "url_1 = \"https://gis.nola.gov/arcgis/rest/services/CompositePIN2/GeocodeServer/findAddressCandidates?SingleLine=ADDRESS&f=json\"\n",
    "req_1 = requests.get(url_1)"
   ]
  },
  {
   "cell_type": "code",
   "execution_count": 14,
   "metadata": {},
   "outputs": [
    {
     "data": {
      "text/plain": [
       "dict_keys(['spatialReference', 'candidates'])"
      ]
     },
     "execution_count": 14,
     "metadata": {},
     "output_type": "execute_result"
    }
   ],
   "source": [
    "resp = req_1.json()\n",
    "resp.keys()"
   ]
  },
  {
   "cell_type": "code",
   "execution_count": 35,
   "metadata": {},
   "outputs": [],
   "source": [
    "resp['candidates'][0]['location']\n",
    "x_val = resp['candidates'][0]['location']['x']\n",
    "y_val = resp['candidates'][0]['location']['y']"
   ]
  },
  {
   "cell_type": "code",
   "execution_count": 28,
   "metadata": {},
   "outputs": [],
   "source": []
  },
  {
   "cell_type": "code",
   "execution_count": 40,
   "metadata": {},
   "outputs": [],
   "source": [
    "base = \"https://gis.nola.gov/arcgis/rest/services/apps/WhereYat/MapServer/identify?\"\n",
    "base_geo = \"geometry={x:,y:}&\"\n",
    "geo_type = \"geometryType=esriGeometryPoint&layers=all&tolerance=2&\"\n",
    "change_value = .00001\n",
    "x_lower = x_val - (x_val * change_value)\n",
    "x_upper = x_val + (x_val * change_value)\n",
    "y_lower = y_val - (y_val * change_value)\n",
    "y_upper = y_val + (y_val * change_value)\n",
    "map_extent = \"mapExtent={},{},{},{}&\".format(x_lower,y_lower,x_upper,y_upper)\n",
    "display_image = \"imageDisplay=20,20,96&returnGeometry=false&f=json\"\n",
    "url_3 = base + base_geo + geo_type + map_extent + display_image"
   ]
  },
  {
   "cell_type": "code",
   "execution_count": 41,
   "metadata": {},
   "outputs": [],
   "source": [
    "resp2 = requests.get(url_3)"
   ]
  },
  {
   "cell_type": "code",
   "execution_count": null,
   "metadata": {},
   "outputs": [],
   "source": []
  },
  {
   "cell_type": "code",
   "execution_count": null,
   "metadata": {},
   "outputs": [],
   "source": []
  },
  {
   "cell_type": "code",
   "execution_count": null,
   "metadata": {},
   "outputs": [],
   "source": []
  },
  {
   "cell_type": "code",
   "execution_count": null,
   "metadata": {},
   "outputs": [],
   "source": []
  }
 ],
 "metadata": {
  "kernelspec": {
   "display_name": "Python 3",
   "language": "python",
   "name": "python3"
  },
  "language_info": {
   "codemirror_mode": {
    "name": "ipython",
    "version": 3
   },
   "file_extension": ".py",
   "mimetype": "text/x-python",
   "name": "python",
   "nbconvert_exporter": "python",
   "pygments_lexer": "ipython3",
   "version": "3.8.2"
  }
 },
 "nbformat": 4,
 "nbformat_minor": 4
}
